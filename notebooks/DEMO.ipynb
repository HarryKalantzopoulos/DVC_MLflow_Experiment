{
 "cells": [
  {
   "attachments": {},
   "cell_type": "markdown",
   "id": "4a24ba41",
   "metadata": {},
   "source": [
    "# Setting up dvc+mlflow demo for tracking AI pipeline experiments"
   ]
  },
  {
   "attachments": {},
   "cell_type": "markdown",
   "id": "bd1af798",
   "metadata": {},
   "source": [
    "Define working directory"
   ]
  },
  {
   "cell_type": "code",
   "execution_count": 1,
   "id": "0531d789",
   "metadata": {},
   "outputs": [],
   "source": [
    "%%capture\n",
    "import os\n",
    "wd_path = os.getcwd().split('notebooks')[0]\n",
    "os.chdir(os.path.dirname(wd_path))"
   ]
  },
  {
   "cell_type": "code",
   "execution_count": 18,
   "id": "f9db52f0",
   "metadata": {},
   "outputs": [],
   "source": [
    "!git init -q"
   ]
  },
  {
   "attachments": {},
   "cell_type": "markdown",
   "id": "3931c475-20ed-4685-bf42-ae33da2cabe5",
   "metadata": {},
   "source": [
    "Clone github in temporary file, get .dvc/config and data.dvc, which are importat to download the required files"
   ]
  },
  {
   "cell_type": "code",
   "execution_count": 2,
   "id": "14aac471",
   "metadata": {},
   "outputs": [
    {
     "name": "stderr",
     "output_type": "stream",
     "text": [
      "Cloning into '.temp'...\n"
     ]
    }
   ],
   "source": [
    "!git clone https://github.com/HarryKalantzopoulos/dvc_data_version.git .temp"
   ]
  },
  {
   "cell_type": "code",
   "execution_count": 3,
   "id": "2f61fe0d",
   "metadata": {},
   "outputs": [],
   "source": [
    "%%bash\n",
    "mv .temp/.dvc ./.dvc\n",
    "mv .temp/data.dvc ./data.dvc\n",
    "rm -rf .temp"
   ]
  },
  {
   "attachments": {},
   "cell_type": "markdown",
   "id": "bd6ed7f9-f32e-428e-85fc-86ab392cab80",
   "metadata": {},
   "source": [
    "# Download data wih DVC"
   ]
  },
  {
   "attachments": {},
   "cell_type": "markdown",
   "id": "92a6fdcd",
   "metadata": {},
   "source": [
    "Or 'cat data.dvc' for bash and powershell"
   ]
  },
  {
   "cell_type": "code",
   "execution_count": 4,
   "id": "8e7852ad-aca3-4730-8e43-b18d62c7bd1b",
   "metadata": {},
   "outputs": [
    {
     "name": "stdout",
     "output_type": "stream",
     "text": [
      "outs:\n",
      "- md5: ba30de71e034b2e63036d2d2f122e82a.dir\n",
      "  size: 86051558\n",
      "  nfiles: 20\n",
      "  path: data\n",
      "  desc: A demo to data versioning\n",
      "  type: .mha,.nii.gz\n",
      "  meta:\n",
      "    Images: T2\n",
      "    mask: Whole_gland\n",
      "    purpose: Prostate_Segmentation\n",
      "    Author: Harry\n",
      "    Provenance: PI-CAI challenge\n",
      "    Image_source_url: https://zenodo.org/record/6624726\n",
      "    Segmentation_source_url: https://github.com/DIAGNijmegen/picai_labels\n"
     ]
    }
   ],
   "source": [
    "%%bash\n",
    "cat data.dvc "
   ]
  },
  {
   "cell_type": "code",
   "execution_count": 5,
   "id": "ea4ee783-2d7a-4e29-92da-fbe6db3162d2",
   "metadata": {},
   "outputs": [
    {
     "name": "stdout",
     "output_type": "stream",
     "text": [
      "A       data\\\n",
      "1 file added and 20 files fetched\n"
     ]
    }
   ],
   "source": [
    "!dvc pull"
   ]
  },
  {
   "attachments": {},
   "cell_type": "markdown",
   "id": "dd1c3f02",
   "metadata": {},
   "source": [
    "Remove cache if running low in space"
   ]
  },
  {
   "cell_type": "code",
   "execution_count": 6,
   "id": "c51a28b6",
   "metadata": {},
   "outputs": [],
   "source": [
    "%%bash\n",
    "rm -rf .dvc/cache"
   ]
  },
  {
   "attachments": {},
   "cell_type": "markdown",
   "id": "158cb852",
   "metadata": {},
   "source": [
    "# Use DVC to create a pipeline\n",
    "\n",
    "In this section we build the pipeline for image segmentation. Generally DVC run only the stages where changes are located (tracked by md5). DVC will run a stage with **dvc repro** if:\n",
    "\n",
    "    1. -p:  dependent paramater is changed (see params.yaml)\n",
    "\n",
    "    2. -d: dependancy changed\n",
    "    \n",
    "    3. -o: output changed\n",
    "\n",
    "capital O (-O), it tracks but does not keep cache of the output. Use lowercase o to keep cache, this will allow to dvc checkout to your previous results of git commit."
   ]
  },
  {
   "attachments": {},
   "cell_type": "markdown",
   "id": "c74cb7e3",
   "metadata": {},
   "source": [
    "Reads metadata stored in data.dvc"
   ]
  },
  {
   "cell_type": "code",
   "execution_count": 7,
   "id": "7677efed",
   "metadata": {},
   "outputs": [
    {
     "name": "stdout",
     "output_type": "stream",
     "text": [
      "Creating 'dvc.yaml'\n",
      "Adding stage 'read_dataset_info' in 'dvc.yaml'\n",
      "\n",
      "To track the changes with git, run:\n",
      "\n",
      "\tgit add dvc.yaml\n",
      "\n",
      "To enable auto staging, run:\n",
      "\n",
      "\tdvc config core.autostage true\n"
     ]
    }
   ],
   "source": [
    "%%bash\n",
    "dvc stage add -n read_dataset_info \\\n",
    "    -d code/read_DS_info.py -d data \\\n",
    "    -O  .temp/read_dvc.txt \\\n",
    "    python code/read_DS_info.py"
   ]
  },
  {
   "attachments": {},
   "cell_type": "markdown",
   "id": "cdd1547f",
   "metadata": {},
   "source": [
    "First is *pipeline_create.py*, where a new experiment is created in mlflow, it can be set to **False** inside the params.yaml to stop mlflow tracking.\n",
    "\n",
    "To iniate a new experiment, set another name, otherwise reruning the experiment with some changes will delete the previous runs. (Except if you force this stage again, which will create another experiment with the same name.)"
   ]
  },
  {
   "cell_type": "code",
   "execution_count": 8,
   "id": "b6c6620d-d74f-4ced-a269-04b20ff09ca7",
   "metadata": {},
   "outputs": [
    {
     "name": "stdout",
     "output_type": "stream",
     "text": [
      "Adding stage 'pipeline_create' in 'dvc.yaml'\n",
      "\n",
      "To track the changes with git, run:\n",
      "\n",
      "\tgit add dvc.yaml\n",
      "\n",
      "To enable auto staging, run:\n",
      "\n",
      "\tdvc config core.autostage true\n"
     ]
    }
   ],
   "source": [
    "%%bash\n",
    "dvc stage add -n pipeline_create \\\n",
    "    -p params.yaml:mlflow.activate,mlflow.name \\\n",
    "    -d code/pipeline_create.py -d .temp/read_dvc.txt \\\n",
    "    -O  .temp/pipeline.txt \\\n",
    "    python code/pipeline_create.py"
   ]
  },
  {
   "attachments": {},
   "cell_type": "markdown",
   "id": "91e0d199",
   "metadata": {},
   "source": [
    "As it is shown above, DVC will reccomend to add and commit files, you can perform your commit at the end.\n",
    "\n",
    "The above step will create **dvc.yaml**, which will keep the informations about the pipeline. As output it will create a hidden folder with a txt to keep the order in sequence."
   ]
  },
  {
   "cell_type": "code",
   "execution_count": 9,
   "id": "8503696e",
   "metadata": {},
   "outputs": [
    {
     "name": "stdout",
     "output_type": "stream",
     "text": [
      "stages:\n",
      "  read_dataset_info:\n",
      "    cmd: python code/read_DS_info.py\n",
      "    deps:\n",
      "    - code/read_DS_info.py\n",
      "    - data\n",
      "    outs:\n",
      "    - .temp/read_dvc.txt:\n",
      "        cache: false\n",
      "  pipeline_create:\n",
      "    cmd: python code/pipeline_create.py\n",
      "    deps:\n",
      "    - .temp/read_dvc.txt\n",
      "    - code/pipeline_create.py\n",
      "    params:\n",
      "    - mlflow.activate\n",
      "    - mlflow.name\n",
      "    outs:\n",
      "    - .temp/pipeline.txt:\n",
      "        cache: false\n"
     ]
    }
   ],
   "source": [
    "%%bash\n",
    "cat dvc.yaml"
   ]
  },
  {
   "attachments": {},
   "cell_type": "markdown",
   "id": "dec7d949",
   "metadata": {},
   "source": [
    "The following stage is the preprocess stage, set to do resampling, cropping and convert images to 8bit"
   ]
  },
  {
   "cell_type": "code",
   "execution_count": 10,
   "id": "be4907c3-ebed-4124-aae8-5e10ec3c3e8f",
   "metadata": {},
   "outputs": [
    {
     "name": "stdout",
     "output_type": "stream",
     "text": [
      "Adding stage 'Preprocess' in 'dvc.yaml'\n",
      "\n",
      "To track the changes with git, run:\n",
      "\n",
      "\tgit add dvc.yaml\n",
      "\n",
      "To enable auto staging, run:\n",
      "\n",
      "\tdvc config core.autostage true\n"
     ]
    }
   ],
   "source": [
    "%%bash\n",
    "dvc stage add -n Preprocess \\\n",
    "    -p params.yaml:Preprocess.image_size,Preprocess.resample,Preprocess.maskcrop,Preprocess.8bit,mlflow.activate,mlflow.name \\\n",
    "    -d code/preprocess.py -d data -d .temp/pipeline.txt \\\n",
    "    -O preprocess/dataset.csv -O preprocess/images -O preprocess/masks \\\n",
    "    python code/preprocess.py"
   ]
  },
  {
   "attachments": {},
   "cell_type": "markdown",
   "id": "aec3a941",
   "metadata": {},
   "source": [
    "After the excecution of the previous step, code/return_md5.py is running to collect the md5 hashes, defined by dvc, and the pythonic packages used. These informations are uploaded at Mlflow."
   ]
  },
  {
   "cell_type": "code",
   "execution_count": 11,
   "id": "7133bc05-9fa9-4b48-9644-ed0689203d19",
   "metadata": {},
   "outputs": [
    {
     "name": "stdout",
     "output_type": "stream",
     "text": [
      "Adding stage 'md5_Preprocess' in 'dvc.yaml'\n",
      "\n",
      "To track the changes with git, run:\n",
      "\n",
      "\tgit add dvc.yaml\n",
      "\n",
      "To enable auto staging, run:\n",
      "\n",
      "\tdvc config core.autostage true\n"
     ]
    }
   ],
   "source": [
    "%%bash\n",
    "dvc stage add -n md5_Preprocess \\\n",
    "    -p params.yaml:Preprocess.image_size,Preprocess.resample,Preprocess.maskcrop,Preprocess.8bit,mlflow.activate,mlflow.name \\\n",
    "    -d code/preprocess.py -d preprocess/images -d preprocess/masks \\\n",
    "    -O .temp/Preprocess.txt \\\n",
    "    python  code/return_md5.py \"Preprocess\""
   ]
  },
  {
   "attachments": {},
   "cell_type": "markdown",
   "id": "d06eca67",
   "metadata": {},
   "source": [
    "kfold split"
   ]
  },
  {
   "cell_type": "code",
   "execution_count": 12,
   "id": "1f91c241-0bc9-484d-b37a-f2be5669bee1",
   "metadata": {},
   "outputs": [
    {
     "name": "stdout",
     "output_type": "stream",
     "text": [
      "Adding stage 'Prepare' in 'dvc.yaml'\n",
      "\n",
      "To track the changes with git, run:\n",
      "\n",
      "\tgit add dvc.yaml\n",
      "\n",
      "To enable auto staging, run:\n",
      "\n",
      "\tdvc config core.autostage true\n"
     ]
    }
   ],
   "source": [
    "%%bash\n",
    "dvc stage add -n Prepare \\\n",
    "    -p params.yaml:Prepare.kfold,mlflow.activate,mlflow.name \\\n",
    "    -d code/prepare.py -d preprocess/dataset.csv -d .temp/Preprocess.txt \\\n",
    "    -O prepared/kfold.json \\\n",
    "    python code/prepare.py"
   ]
  },
  {
   "cell_type": "code",
   "execution_count": 13,
   "id": "41718e39-a0f8-4500-99c2-15de49151f59",
   "metadata": {},
   "outputs": [
    {
     "name": "stdout",
     "output_type": "stream",
     "text": [
      "Adding stage 'md5_Prepare' in 'dvc.yaml'\n",
      "\n",
      "To track the changes with git, run:\n",
      "\n",
      "\tgit add dvc.yaml\n",
      "\n",
      "To enable auto staging, run:\n",
      "\n",
      "\tdvc config core.autostage true\n"
     ]
    }
   ],
   "source": [
    "%%bash\n",
    "dvc stage add -n md5_Prepare \\\n",
    "    -p params.yaml:Prepare.kfold,mlflow.activate,mlflow.name \\\n",
    "    -d code/prepare.py \\\n",
    "    -d prepared/kfold.json \\\n",
    "    -O .temp/Prepare.txt \\\n",
    "    python code/return_md5.py \"Prepare\""
   ]
  },
  {
   "attachments": {},
   "cell_type": "markdown",
   "id": "eb67eb5f",
   "metadata": {},
   "source": [
    "Train stage and evaluation (this is a mockup, only 1 epoch)"
   ]
  },
  {
   "cell_type": "code",
   "execution_count": 14,
   "id": "31294d8f-300d-400e-84b3-a2410dc547c6",
   "metadata": {},
   "outputs": [
    {
     "name": "stdout",
     "output_type": "stream",
     "text": [
      "Adding stage 'Train' in 'dvc.yaml'\n",
      "\n",
      "To track the changes with git, run:\n",
      "\n",
      "\tgit add dvc.yaml\n",
      "\n",
      "To enable auto staging, run:\n",
      "\n",
      "\tdvc config core.autostage true\n"
     ]
    }
   ],
   "source": [
    "%%bash\n",
    "dvc stage add -fn Train \\\n",
    "    -p  params.yaml:Preprocess.image_size,mlflow.activate,mlflow.name \\\n",
    "    -p  model.filters,model.architecture,model.loss,model.optimiser,model.metric \\\n",
    "    -p  model.Number_inputs,model.Number_labels,model.layer_activation \\\n",
    "    -p  model.activation,model.dilation  \\\n",
    "    -p  Train.zscore,Train.batch_size,Train.epoch \\\n",
    "    -d code/train.py -d prepared/kfold.json -d .temp/Prepare.txt \\\n",
    "    -O model \\\n",
    "    python code/train.py"
   ]
  },
  {
   "cell_type": "code",
   "execution_count": 15,
   "id": "b6911b59-a054-478b-8892-260d3d479a47",
   "metadata": {},
   "outputs": [
    {
     "name": "stdout",
     "output_type": "stream",
     "text": [
      "Adding stage 'md5_Train' in 'dvc.yaml'\n",
      "\n",
      "To track the changes with git, run:\n",
      "\n",
      "\tgit add dvc.yaml\n",
      "\n",
      "To enable auto staging, run:\n",
      "\n",
      "\tdvc config core.autostage true\n"
     ]
    }
   ],
   "source": [
    "%%bash\n",
    "dvc stage add -n md5_Train \\\n",
    "    -p  params.yaml:Preprocess.image_size,mlflow.activate,mlflow.name \\\n",
    "    -p  model.filters,model.architecture,model.loss,model.optimiser,model.metric \\\n",
    "    -p  model.Number_inputs,model.Number_labels,model.layer_activation \\\n",
    "    -p  model.activation,model.dilation  \\\n",
    "    -p  Train.zscore,Train.batch_size,Train.epoch \\\n",
    "    -d code/train.py \\\n",
    "    -d model \\\n",
    "    python code/return_md5.py \"Train\""
   ]
  },
  {
   "attachments": {},
   "cell_type": "markdown",
   "id": "da173e82",
   "metadata": {},
   "source": [
    "And the DAG of the pipeline"
   ]
  },
  {
   "cell_type": "code",
   "execution_count": 16,
   "id": "ca2de38e-a923-4560-bd85-1a88cdefee0f",
   "metadata": {},
   "outputs": [
    {
     "name": "stdout",
     "output_type": "stream",
     "text": [
      "                  +----------+         \n",
      "                  | data.dvc |         \n",
      "                  +----------+         \n",
      "                 **           **       \n",
      "               **               **     \n",
      "             **                   **   \n",
      "+-------------------+               ** \n",
      "| read_dataset_info |                * \n",
      "+-------------------+                * \n",
      "          *                          * \n",
      "          *                          * \n",
      "          *                          * \n",
      " +-----------------+                ** \n",
      " | pipeline_create |              **   \n",
      " +-----------------+            **     \n",
      "                 **           **       \n",
      "                   **       **         \n",
      "                     **   **           \n",
      "                 +------------+        \n",
      "                 | Preprocess |        \n",
      "                 +------------+        \n",
      "                 **          ***       \n",
      "               **               *      \n",
      "             **                  ***   \n",
      "  +----------------+                *  \n",
      "  | md5_Preprocess |             ***   \n",
      "  +----------------+            *      \n",
      "                 **          ***       \n",
      "                   **       *          \n",
      "                     **   **           \n",
      "                  +---------+          \n",
      "                  | Prepare |          \n",
      "                  +---------+          \n",
      "                 ***         ***       \n",
      "                *               *      \n",
      "              **                 ***   \n",
      "    +-------------+                 *  \n",
      "    | md5_Prepare |              ***   \n",
      "    +-------------+             *      \n",
      "                 ***         ***       \n",
      "                    *       *          \n",
      "                     **   **           \n",
      "                   +-------+           \n",
      "                   | Train |           \n",
      "                   +-------+           \n",
      "                        *              \n",
      "                        *              \n",
      "                        *              \n",
      "                 +-----------+         \n",
      "                 | md5_Train |         \n",
      "                 +-----------+         \n"
     ]
    }
   ],
   "source": [
    "!dvc dag"
   ]
  },
  {
   "attachments": {},
   "cell_type": "markdown",
   "id": "17f222cf",
   "metadata": {},
   "source": [
    "The pipeline is ready we can proceed with git commits. To excecute the pipeline use dvc repro. One incovenience of this dvc, mlflow approach is the git commit.\n",
    "\n",
    "MLflow is running inside each stage, keeps the last commit. However, DVC changes are commited after dvc repro."
   ]
  },
  {
   "attachments": {},
   "cell_type": "markdown",
   "id": "ab970c5b-4d6f-4f43-893e-06f90713e54e",
   "metadata": {},
   "source": [
    "You can now run **dvc repro** and if you want to register the best model (in this case just the one with the best IoU score on evaluation phase) use **code/register_model.py**"
   ]
  },
  {
   "cell_type": "code",
   "execution_count": null,
   "id": "c51392de-a0be-4ac5-a825-c2cff3755070",
   "metadata": {},
   "outputs": [],
   "source": [
    "# %%bash\n",
    "# dvc repro\n",
    "# python3 code/register_model.py"
   ]
  },
  {
   "attachments": {},
   "cell_type": "markdown",
   "id": "869f290e",
   "metadata": {},
   "source": [
    "Or you can use the dockerfile"
   ]
  },
  {
   "cell_type": "code",
   "execution_count": null,
   "id": "b4a67a38",
   "metadata": {},
   "outputs": [],
   "source": [
    "# %%bash\n",
    "# docker build -t demo_dvc_mlflow .\n",
    "# docker run --network=host demo_dvc_mlflow"
   ]
  }
 ],
 "metadata": {
  "kernelspec": {
   "display_name": "Python 3 (ipykernel)",
   "language": "python",
   "name": "python3"
  },
  "language_info": {
   "codemirror_mode": {
    "name": "ipython",
    "version": 3
   },
   "file_extension": ".py",
   "mimetype": "text/x-python",
   "name": "python",
   "nbconvert_exporter": "python",
   "pygments_lexer": "ipython3",
   "version": "3.10.8"
  }
 },
 "nbformat": 4,
 "nbformat_minor": 5
}
